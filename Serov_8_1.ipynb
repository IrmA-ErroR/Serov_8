{
 "cells": [
  {
   "cell_type": "markdown",
   "id": "a13b9444",
   "metadata": {},
   "source": [
    "# Формализованные модели и методы решения аналитических задач\n",
    "## Бескоалиционная биматричная игр. Равновесие по Нэшу"
   ]
  },
  {
   "cell_type": "code",
   "execution_count": 99,
   "id": "4f7e4694",
   "metadata": {},
   "outputs": [],
   "source": [
    "import numpy as np\n",
    "import numpy as np\n",
    "import matplotlib.pyplot as plt\n",
    "%matplotlib inline"
   ]
  },
  {
   "cell_type": "markdown",
   "id": "200868e5",
   "metadata": {},
   "source": [
    "### Вариант 13\n",
    "Исходные данные\n"
   ]
  },
  {
   "cell_type": "code",
   "execution_count": 100,
   "id": "b016c87c",
   "metadata": {},
   "outputs": [
    {
     "data": {
      "text/plain": [
       "array([[9, 3],\n",
       "       [1, 4]])"
      ]
     },
     "execution_count": 100,
     "metadata": {},
     "output_type": "execute_result"
    }
   ],
   "source": [
    "A = np.array([[9, 3],[1, 4]])\n",
    "B = np.array([[5, 15],[20, 5]])\n",
    "A"
   ]
  },
  {
   "cell_type": "code",
   "execution_count": 101,
   "id": "55fe3af0",
   "metadata": {},
   "outputs": [
    {
     "data": {
      "text/plain": [
       "array([[ 5, 15],\n",
       "       [20,  5]])"
      ]
     },
     "execution_count": 101,
     "metadata": {},
     "output_type": "execute_result"
    }
   ],
   "source": [
    "B"
   ]
  },
  {
   "cell_type": "code",
   "execution_count": 102,
   "id": "924ef3ca",
   "metadata": {},
   "outputs": [
    {
     "name": "stdout",
     "output_type": "stream",
     "text": [
      "C = 9 \n",
      "Alpha = 1 \n",
      "D = -25 \n",
      "Beta = -15\n"
     ]
    }
   ],
   "source": [
    "C = A[0,0]-A[1,0]-A[0,1]+A[1,1]\n",
    "Alpha = A[1,1]-A[0,1]\n",
    "D = B[0,0]-B[1,0]-B[0,1]+B[1,1]\n",
    "Beta = B[1,1]-B[1,0]\n",
    "print(f\"C = {C} \\nAlpha = {Alpha} \\nD = {D} \\nBeta = {Beta}\")"
   ]
  },
  {
   "cell_type": "code",
   "execution_count": 103,
   "id": "bf8f1c04",
   "metadata": {},
   "outputs": [
    {
     "name": "stdout",
     "output_type": "stream",
     "text": [
      "p* = [0.6, 0.4] \n",
      "q* = [0.1111111111111111, 0.8888888888888888]\n"
     ]
    }
   ],
   "source": [
    "q = Alpha / C\n",
    "p = Beta / D\n",
    "print(f\"p* = [{p}, {1-p}] \\nq* = [{q}, {1-q}]\")"
   ]
  },
  {
   "cell_type": "code",
   "execution_count": 104,
   "id": "e4e5d198",
   "metadata": {},
   "outputs": [
    {
     "data": {
      "image/png": "[encoded data removed]",
      "text/plain": [
       "<Figure size 800x600 with 1 Axes>"
      ]
     },
     "metadata": {},
     "output_type": "display_data"
    }
   ],
   "source": [
    "# Оптимальные стратегии для игрока A и игрока B\n",
    "optimal_strategies_A = [(0, 1), (p, 1), (p, 0), (1, 0)]\n",
    "optimal_strategies_B = [(1, 1), (1, q), (0, q), (0, 0)]\n",
    "\n",
    "# Равновесие по Нэшу\n",
    "equilibrium = [(p, q)]\n",
    "\n",
    "# Построение графика\n",
    "plt.figure(figsize=(8, 6))\n",
    "plt.xlim(-0.1, 1.5)\n",
    "\n",
    "# Отображение оптимальных стратегий для игрока A и игрока B\n",
    "plt.step([point[0] for point in optimal_strategies_A], [point[1] for point in optimal_strategies_A], 'r', where='post', label='Optimal Strategy A')\n",
    "plt.step([point[0] for point in optimal_strategies_B], [point[1] for point in optimal_strategies_B], 'b', where='post', label='Optimal Strategy B')\n",
    "\n",
    "# Отображение точек и их меток\n",
    "plt.scatter([0, 1, 1, 0, p], [1, 1, 0, 0, q], color='black')  # точки A, B, C, D, N\n",
    "plt.text(1.01, 1, 'A', ha='left', va='bottom')\n",
    "plt.text(1.01, 1/9, 'B', ha='left', va='bottom')\n",
    "plt.text(-0.01, 1/9, 'C', ha='right', va='bottom')\n",
    "plt.text(-0.01, -0.01, 'D', ha='right', va='top')\n",
    "\n",
    "# Добавление подписей и легенды\n",
    "plt.text(-0.01, 1, 'E', ha='right', va='bottom')\n",
    "plt.text(3/5, 1, 'F', ha='center', va='bottom')\n",
    "plt.text(3/5, -0.01, 'G', ha='center', va='top')\n",
    "plt.text(1.01, -0.01, 'H', ha='left', va='top')\n",
    "\n",
    "# Отображение графика\n",
    "plt.title('Nash Equilibrium and Optimal Strategies')\n",
    "plt.legend(loc='right')\n",
    "\n",
    "# Вывод координат точки равновесия по Нэшу в легенде\n",
    "plt.text(equilibrium[0][0] -0.01, equilibrium[0][1], f'N: ({equilibrium[0][0]:.2f}, {equilibrium[0][1]:.2f})', ha='right', va='bottom')\n",
    "\n",
    "plt.grid(True)\n",
    "plt.show()\n"
   ]
  },
  {
   "cell_type": "code",
   "execution_count": 105,
   "id": "5dc6ac36",
   "metadata": {},
   "outputs": [
    {
     "name": "stdout",
     "output_type": "stream",
     "text": [
      "Bыигрыш I игрока: 3.67\n",
      "Выигрыш II игрока: 11.0\n"
     ]
    }
   ],
   "source": [
    "p = np.array([[3/5, 2/5]])\n",
    "q = np.array([[1/9, 8/9]])\n",
    "\n",
    "f1 = np.dot(np.dot(p, A), q.T)\n",
    "f2 = np.dot(np.dot(p, B), q.T)\n",
    "\n",
    "print(f\"Bыигрыш I игрока: {round(f1[0][0], 2)}\")\n",
    "print(f\"Выигрыш II игрока: {round(f2[0][0], 2)}\")"
   ]
  },
  {
   "cell_type": "code",
   "execution_count": null,
   "id": "e233dea2",
   "metadata": {},
   "outputs": [],
   "source": []
  }
 ],
 "metadata": {
  "kernelspec": {
   "display_name": "Python 3 (ipykernel)",
   "language": "python",
   "name": "python3"
  },
  "language_info": {
   "codemirror_mode": {
    "name": "ipython",
    "version": 3
   },
   "file_extension": ".py",
   "mimetype": "text/x-python",
   "name": "python",
   "nbconvert_exporter": "python",
   "pygments_lexer": "ipython3",
   "version": "3.9.13"
  }
 },
 "nbformat": 4,
 "nbformat_minor": 5
}
