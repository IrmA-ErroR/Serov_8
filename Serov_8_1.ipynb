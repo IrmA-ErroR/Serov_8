{
 "cells": [
  {
   "cell_type": "code",
   "execution_count": 36,
   "id": "4f7e4694",
   "metadata": {},
   "outputs": [],
   "source": [
    "import numpy as np"
   ]
  },
  {
   "cell_type": "code",
   "execution_count": 37,
   "id": "b016c87c",
   "metadata": {},
   "outputs": [],
   "source": [
    "A = np.array([[9, 3],[1, 4]])\n",
    "B = np.array([[5, 15],[20, 5]])"
   ]
  },
  {
   "cell_type": "code",
   "execution_count": 38,
   "id": "924ef3ca",
   "metadata": {},
   "outputs": [
    {
     "name": "stdout",
     "output_type": "stream",
     "text": [
      "9 1 \n",
      " -25 -15\n"
     ]
    }
   ],
   "source": [
    "C = A[0,0]-A[1,0]-A[0,1]+A[1,1]\n",
    "Alpha = A[1,1]-A[0,1]\n",
    "D = B[0,0]-B[1,0]-B[0,1]+B[1,1]\n",
    "Beta = B[1,1]-B[1,0]\n",
    "print(C, Alpha, '\\n', D, Beta)"
   ]
  },
  {
   "cell_type": "code",
   "execution_count": 39,
   "id": "51fac2a0",
   "metadata": {},
   "outputs": [],
   "source": [
    "p = np.zeros((1,2))\n",
    "q = np.zeros((1,2))"
   ]
  },
  {
   "cell_type": "code",
   "execution_count": 40,
   "id": "dd363fb6",
   "metadata": {},
   "outputs": [
    {
     "data": {
      "text/plain": [
       "array([[0.11111111, 0.88888889]])"
      ]
     },
     "execution_count": 40,
     "metadata": {},
     "output_type": "execute_result"
    }
   ],
   "source": [
    "q[0, 0]=Alpha/C\n",
    "q[0, 1]=1-q[0, 0]\n",
    "q"
   ]
  },
  {
   "cell_type": "code",
   "execution_count": 41,
   "id": "3ae5044a",
   "metadata": {},
   "outputs": [
    {
     "data": {
      "text/plain": [
       "array([[0.6, 0.4]])"
      ]
     },
     "execution_count": 41,
     "metadata": {},
     "output_type": "execute_result"
    }
   ],
   "source": [
    "p[0, 0]=Beta/D\n",
    "p[0, 1]=1-p[0, 0]\n",
    "p"
   ]
  },
  {
   "cell_type": "code",
   "execution_count": 44,
   "id": "36d3b628",
   "metadata": {},
   "outputs": [
    {
     "name": "stdout",
     "output_type": "stream",
     "text": [
      "B1: 6p1 + 3\n",
      "B2: -3p1 + 4\n",
      "B3: -10p1 + 15\n",
      "B4: 15p1 + 5\n",
      "N = [0.75,7.5]\n",
      "f(1,q*) = 4q1* + 5\n",
      "f(3,q*) = -12q1* + 5\n",
      "q1* = 0.625\n",
      "q2* = 0.375\n",
      "\n",
      "Ответ:\n",
      "p* = [0.75,0.25]\n",
      "q* = [0.625, 0, 0.375, 0]\n",
      "v = 7.5\n"
     ]
    }
   ],
   "source": [
    "import matplotlib\n",
    "matplotlib.use('TkAgg')\n",
    "import matplotlib.pyplot as plt\n",
    "  \n",
    "#Вариант 13\n",
    "data = [[9,1,5,20],\n",
    "        [3,4,15,5]]\n",
    "\n",
    "new_x1 = data[0][0] - data[1][0]\n",
    "f1 = [new_x1, data[1][0]]\n",
    "x1 = [0,1]\n",
    "y1 = [data[1][0], new_x1 + data[1][0]]\n",
    "print(f'B1: {new_x1}p1 + {data[1][0]}')\n",
    "\n",
    "new_x2 = data[0][1] - data[1][1]\n",
    "f2 = [new_x2, data[1][1]]\n",
    "x2 = [0,1]\n",
    "y2 = [data[1][1], new_x2 + data[1][1]]\n",
    "print(f'B2: {new_x2}p1 + {data[1][1]}')\n",
    "\n",
    "new_x3 = data[0][2] - data[1][2]\n",
    "f3 = [new_x3, data[1][2]]\n",
    "x3 = [0,1]\n",
    "y3 = [data[1][2], new_x3 + data[1][2]]\n",
    "print(f'B3: {new_x3}p1 + {data[1][2]}')\n",
    "\n",
    "new_x4 = data[0][3] - data[1][3]\n",
    "f4 = [new_x4, data[1][3]]\n",
    "x4 = [0,1]\n",
    "y4 = [data[1][3], new_x4 + data[1][3]]\n",
    "print(f'B4: {new_x4}p1 + {data[1][3]}')\n",
    "\n",
    "x_N = (data[1][2] - data[1][0]) / (new_x1 - new_x3)\n",
    "y_N = new_x1 * x_N + data[1][0]\n",
    "print(f'N = [{x_N},{y_N}]')\n",
    "\n",
    "print(f'f(1,q*) = {data[0][0] - data[0][2]}q1* + {data[0][2]}')\n",
    "print(f'f(3,q*) = {data[1][0] - data[1][2]}q1* + {data[0][2]}')\n",
    "q1 = (data[1][2] - data[0][2]) / ((data[0][0] - data[0][2]) - (data[1][0] - data[1][2]))\n",
    "q2 = 1 - q1\n",
    "print(f'q1* = {q1}\\n'\n",
    "      f'q2* = {q2}')\n",
    "\n",
    "print('\\nОтвет:\\n'\n",
    "      f'p* = [{x_N},{1 - x_N}]\\n'\n",
    "      f'q* = [{q1}, 0, {q2}, 0]\\n'\n",
    "      f'v = {y_N}')\n",
    "\n",
    "plt.plot(x1, y1, color='green')\n",
    "plt.plot(x2, y2, color='blue')\n",
    "plt.plot(x3, y3, color='red')\n",
    "plt.plot(x4, y4, color='orange')\n",
    "plt.scatter(x_N, y_N, color='black', marker='o')\n",
    "plt.text(0,1.3, 'B1', fontsize=14, color='green')\n",
    "plt.text(0,3.5, 'B2', fontsize=14, color='blue')\n",
    "plt.text(0,5.3, 'B3', fontsize=14, color='red')\n",
    "plt.text(0,7.3, 'B4', fontsize=14, color='orange')\n",
    "plt.text(0.65,2.3, 'N', fontsize=14, color='black')\n",
    "plt.grid(True)\n",
    "plt.show()\n"
   ]
  },
  {
   "cell_type": "code",
   "execution_count": null,
   "id": "63e6e1ac",
   "metadata": {},
   "outputs": [],
   "source": []
  }
 ],
 "metadata": {
  "kernelspec": {
   "display_name": "Python 3 (ipykernel)",
   "language": "python",
   "name": "python3"
  },
  "language_info": {
   "codemirror_mode": {
    "name": "ipython",
    "version": 3
   },
   "file_extension": ".py",
   "mimetype": "text/x-python",
   "name": "python",
   "nbconvert_exporter": "python",
   "pygments_lexer": "ipython3",
   "version": "3.9.13"
  }
 },
 "nbformat": 4,
 "nbformat_minor": 5
}
